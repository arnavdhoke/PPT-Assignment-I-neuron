{
 "cells": [
  {
   "cell_type": "markdown",
   "id": "04d6c8cc",
   "metadata": {},
   "source": [
    "    \t\t\t\t\t\t\t\t\t\t\tAssignment-10 Recursion\n",
    "                                                Name: Aman Yadav\n",
    "                                                email: amanyadav18072000@gmail.com"
   ]
  },
  {
   "cell_type": "markdown",
   "id": "44c71630",
   "metadata": {},
   "source": [
    "<aside>\n",
    "💡 **Question 1**\n",
    "\n",
    "Given an integer `n`, return *`true` if it is a power of three. Otherwise, return `false`*.\n",
    "\n",
    "An integer `n` is a power of three, if there exists an integer `x` such that `n == 3x`.\n",
    "\n",
    "**Example 1:**\n",
    "\n",
    "```\n",
    "Input: n = 27\n",
    "Output: true\n",
    "Explanation: 27 = 33\n",
    "```\n",
    "\n",
    "**Example 2:**\n",
    "\n",
    "```\n",
    "Input: n = 0\n",
    "Output: false\n",
    "Explanation: There is no x where 3x = 0.\n",
    "\n",
    "```\n",
    "\n",
    "**Example 3:**\n",
    "\n",
    "</aside>"
   ]
  },
  {
   "cell_type": "code",
   "execution_count": 2,
   "id": "65145943",
   "metadata": {},
   "outputs": [],
   "source": [
    "def isPowerOfThree(n):\n",
    "    if n == 1:\n",
    "        return True\n",
    "    elif n <= 0 or n % 3 != 0:\n",
    "        return False\n",
    "    else:\n",
    "        return isPowerOfThree(n // 3)\n"
   ]
  },
  {
   "cell_type": "code",
   "execution_count": 3,
   "id": "c08e0618",
   "metadata": {},
   "outputs": [
    {
     "name": "stdout",
     "output_type": "stream",
     "text": [
      "True\n",
      "False\n"
     ]
    }
   ],
   "source": [
    "print(isPowerOfThree(27))  # Output: True\n",
    "print(isPowerOfThree(0))   # Output: False\n"
   ]
  },
  {
   "cell_type": "markdown",
   "id": "596bcb11",
   "metadata": {},
   "source": [
    "<aside>\n",
    "💡 **Question 2**\n",
    "\n",
    "You have a list `arr` of all integers in the range `[1, n]` sorted in a strictly increasing order. Apply the following algorithm on `arr`:\n",
    "\n",
    "- Starting from left to right, remove the first number and every other number afterward until you reach the end of the list.\n",
    "- Repeat the previous step again, but this time from right to left, remove the rightmost number and every other number from the remaining numbers.\n",
    "- Keep repeating the steps again, alternating left to right and right to left, until a single number remains.\n",
    "\n",
    "Given the integer `n`, return *the last number that remains in* `arr`.\n",
    "\n",
    "**Example 1:**\n",
    "\n",
    "```\n",
    "Input: n = 9\n",
    "Output: 6\n",
    "Explanation:\n",
    "arr = [1, 2,3, 4,5, 6,7, 8,9]\n",
    "arr = [2,4, 6,8]\n",
    "arr = [2, 6]\n",
    "arr = [6]\n",
    "\n",
    "```\n",
    "\n",
    "**Example 2:**\n",
    "\n",
    "</aside>"
   ]
  },
  {
   "cell_type": "code",
   "execution_count": 4,
   "id": "a8b43828",
   "metadata": {},
   "outputs": [],
   "source": [
    "def lastRemaining(n):\n",
    "    if n == 1:\n",
    "        return 1\n",
    "\n",
    "    # When moving left to right, the step size is 2\n",
    "    step_size = 2\n",
    "\n",
    "    # When moving left to right, the first element is always removed\n",
    "    first_removed = 1\n",
    "\n",
    "    # When moving left to right, the next list size is halved\n",
    "    next_n = n // 2\n",
    "\n",
    "    # After moving left to right, the pattern changes to moving right to left\n",
    "    # So, we call the function recursively with the new parameters\n",
    "    return step_size * lastRemaining(next_n) - (step_size // 2) + (first_removed if next_n % 2 == 1 else 0)\n"
   ]
  },
  {
   "cell_type": "code",
   "execution_count": 5,
   "id": "7696db71",
   "metadata": {},
   "outputs": [
    {
     "name": "stdout",
     "output_type": "stream",
     "text": [
      "5\n"
     ]
    }
   ],
   "source": [
    "print(lastRemaining(9))  # Output: 6\n"
   ]
  },
  {
   "cell_type": "markdown",
   "id": "18a0d7e2",
   "metadata": {},
   "source": [
    "<aside>\n",
    "💡 **Question 3**\n",
    "\n",
    "****Given a set represented as a string, write a recursive code to print all subsets of it. The subsets can be printed in any order.\n",
    "\n",
    "**Example 1:**\n",
    "\n",
    "Input :  set = “abc”\n",
    "\n",
    "Output : { “”, “a”, “b”, “c”, “ab”, “ac”, “bc”, “abc”}\n",
    "\n",
    "**Example 2:**\n",
    "\n",
    "Input : set = “abcd”\n",
    "\n",
    "Output : { “”, “a” ,”ab” ,”abc” ,”abcd”, “abd” ,”ac” ,”acd”, “ad” ,”b”, “bc” ,”bcd” ,”bd” ,”c” ,”cd” ,”d” }\n",
    "\n",
    "</aside>"
   ]
  },
  {
   "cell_type": "code",
   "execution_count": 7,
   "id": "8560f1d7",
   "metadata": {},
   "outputs": [],
   "source": [
    "def generateSubsets(s):\n",
    "    if len(s) == 0:\n",
    "        return set([\"\"])\n",
    "\n",
    "    first = s[0]\n",
    "    remaining = s[1:]\n",
    "\n",
    "    subsets = generateSubsets(remaining)\n",
    "    result = set()\n",
    "\n",
    "    for subset in subsets:\n",
    "        result.add(subset)\n",
    "        result.add(first + subset)\n",
    "\n",
    "    return result\n"
   ]
  },
  {
   "cell_type": "code",
   "execution_count": 8,
   "id": "1650440e",
   "metadata": {},
   "outputs": [
    {
     "name": "stdout",
     "output_type": "stream",
     "text": [
      "{'', 'a', 'bc', 'ac', 'c', 'ab', 'abc', 'b'}\n",
      "{'', 'a', 'abcd', 'bc', 'd', 'ac', 'abd', 'acd', 'c', 'cd', 'bcd', 'ab', 'b', 'bd', 'abc', 'ad'}\n"
     ]
    }
   ],
   "source": [
    "print(generateSubsets(\"abc\"))\n",
    "# Output: {'', 'c', 'a', 'ac', 'b', 'bc', 'ab', 'abc'}\n",
    "\n",
    "print(generateSubsets(\"abcd\"))\n",
    "# Output: {'', 'd', 'c', 'cd', 'a', 'ad', 'ac', 'acd', 'b', 'bd', 'bc', 'bcd', 'ab', 'abd', 'abc', 'abcd'}\n"
   ]
  },
  {
   "cell_type": "markdown",
   "id": "adf74274",
   "metadata": {},
   "source": [
    "<aside>\n",
    "💡 **Question 4**\n",
    "\n",
    "Given a string calculate length of the string using recursion.\n",
    "\n",
    "**Examples:**\n",
    "\n",
    "    Input : str = \"abcd\"\n",
    "Output :4\n",
    "\n",
    "Input : str = \"GEEKSFORGEEKS\"\n",
    "Output :13\n",
    "</aside>"
   ]
  },
  {
   "cell_type": "code",
   "execution_count": 9,
   "id": "8afccb3f",
   "metadata": {},
   "outputs": [],
   "source": [
    "def calculateLength(string):\n",
    "    if string == \"\":\n",
    "        return 0\n",
    "    else:\n",
    "        return 1 + calculateLength(string[1:])\n"
   ]
  },
  {
   "cell_type": "code",
   "execution_count": 10,
   "id": "1d4308f0",
   "metadata": {},
   "outputs": [
    {
     "name": "stdout",
     "output_type": "stream",
     "text": [
      "4\n"
     ]
    }
   ],
   "source": [
    "print(calculateLength(\"abcd\"))"
   ]
  },
  {
   "cell_type": "markdown",
   "id": "9e0fa363",
   "metadata": {},
   "source": [
    "<aside>\n",
    "💡 **Question 5**\n",
    "\n",
    "We are given a string S, we need to find count of all contiguous substrings starting and ending with same character.\n",
    "\n",
    "Input  : S = \"abcab\"\n",
    "Output : 7\n",
    "There are 15 substrings of \"abcab\"\n",
    "a, ab, abc, abca, abcab, b, bc, bca\n",
    "bcab, c, ca, cab, a, ab, b\n",
    "Out of the above substrings, there\n",
    "are 7 substrings : a, abca, b, bcab,\n",
    "c, a and b.\n",
    "\n",
    "Input  : S = \"aba\"\n",
    "Output : 4\n",
    "The substrings are a, b, a and aba\n",
    "</aside>"
   ]
  },
  {
   "cell_type": "code",
   "execution_count": 15,
   "id": "cbf0138f",
   "metadata": {},
   "outputs": [],
   "source": [
    "def countContiguousSubstrings(S):\n",
    "    if len(S) <= 1:\n",
    "        return 0\n",
    "    else:\n",
    "        count = 0\n",
    "        if S[0] == S[-1]:\n",
    "            count += 1\n",
    "        count += countContiguousSubstrings(S[1:])\n",
    "        return count\n",
    "\n"
   ]
  },
  {
   "cell_type": "code",
   "execution_count": 18,
   "id": "a0171b13",
   "metadata": {},
   "outputs": [
    {
     "name": "stdout",
     "output_type": "stream",
     "text": [
      "1\n"
     ]
    }
   ],
   "source": [
    "print(countContiguousSubstrings(\"abcab\"))"
   ]
  },
  {
   "cell_type": "markdown",
   "id": "4df82cb1",
   "metadata": {},
   "source": [
    "<aside>\n",
    "💡 **Question 6**\n",
    "\n",
    "The [tower of Hanoi](https://en.wikipedia.org/wiki/Tower_of_Hanoi) is a famous puzzle where we have three rods and **N** disks. The objective of the puzzle is to move the entire stack to another rod. You are given the number of discs **N**. Initially, these discs are in the rod 1. You need to print all the steps of discs movement so that all the discs reach the 3rd rod. Also, you need to find the total moves.**Note:** The discs are arranged such that the **top disc is numbered 1** and the **bottom-most disc is numbered N**. Also, all the discs have **different sizes** and a bigger disc **cannot** be put on the top of a smaller disc. Refer the provided link to get a better clarity about the puzzle.\n",
    "\n",
    "**Example 1:**\n",
    "Input:\n",
    "N = 2\n",
    "Output:\n",
    "move disk 1 from rod 1 to rod 2\n",
    "move disk 2 from rod 1 to rod 3\n",
    "move disk 1 from rod 2 to rod 3\n",
    "3\n",
    "Explanation:For N=2 , steps will be\n",
    "as follows in the example and total\n",
    "3 steps will be taken.\n",
    "    \n",
    "Example 2:\n",
    "    Input:\n",
    "N = 3\n",
    "Output:\n",
    "move disk 1 from rod 1 to rod 3\n",
    "move disk 2 from rod 1 to rod 2\n",
    "move disk 1 from rod 3 to rod 2\n",
    "move disk 3 from rod 1 to rod 3\n",
    "move disk 1 from rod 2 to rod 1\n",
    "move disk 2 from rod 2 to rod 3\n",
    "move disk 1 from rod 1 to rod 3\n",
    "7\n",
    "Explanation:For N=3 , steps will be\n",
    "as follows in the example and total\n",
    "7 steps will be taken.\n",
    "</aside>"
   ]
  },
  {
   "cell_type": "code",
   "execution_count": 19,
   "id": "670287d4",
   "metadata": {},
   "outputs": [],
   "source": [
    "def towerOfHanoi(n, source, destination, auxiliary):\n",
    "    if n == 1:\n",
    "        print(f\"Move disc 1 from {source} to {destination}\")\n",
    "        return\n",
    "\n",
    "    towerOfHanoi(n - 1, source, auxiliary, destination)\n",
    "    print(f\"Move disc {n} from {source} to {destination}\")\n",
    "    towerOfHanoi(n - 1, auxiliary, destination, source)\n"
   ]
  },
  {
   "cell_type": "code",
   "execution_count": 20,
   "id": "0f438f37",
   "metadata": {},
   "outputs": [
    {
     "name": "stdout",
     "output_type": "stream",
     "text": [
      "Move disc 1 from A to C\n",
      "Move disc 2 from A to B\n",
      "Move disc 1 from C to B\n",
      "Move disc 3 from A to C\n",
      "Move disc 1 from B to A\n",
      "Move disc 2 from B to C\n",
      "Move disc 1 from A to C\n"
     ]
    }
   ],
   "source": [
    "towerOfHanoi(3, 'A', 'C', 'B')\n"
   ]
  },
  {
   "cell_type": "markdown",
   "id": "fe71a51d",
   "metadata": {},
   "source": [
    "<aside>\n",
    "💡 **Question 7**\n",
    "\n",
    "Given a string **str**, the task is to print all the permutations of **str**. A **permutation** is an arrangement of all or part of a set of objects, with regard to the order of the arrangement. For instance, the words ‘bat’ and ‘tab’ represents two distinct permutation (or arrangements) of a similar three letter word.\n",
    "\n",
    "**Examples:**\n",
    "\n",
    "> Input: str = “cd”\n",
    "> \n",
    "> \n",
    "> **Output:** cd dc\n",
    "> \n",
    "> **Input:** str = “abb”\n",
    "> \n",
    "> **Output:** abb abb bab bba bab bba\n",
    "> \n",
    "</aside>"
   ]
  },
  {
   "cell_type": "code",
   "execution_count": null,
   "id": "b5b2260f",
   "metadata": {},
   "outputs": [],
   "source": [
    "def permute(str):\n",
    "    if len(str) == 1:\n",
    "        print(str)\n",
    "        return\n",
    "\n",
    "    for i in range(len(str)):\n",
    "        char = str[i]\n",
    "        remaining = str[:i] + str[i+1:]\n",
    "        sub_permutations = permute(remaining)\n",
    "\n",
    "        for permutation in sub_permutations:\n",
    "            print(char + permutation)\n",
    "\n",
    "permute(\"cd\")\n"
   ]
  },
  {
   "cell_type": "code",
   "execution_count": null,
   "id": "d52f13da",
   "metadata": {},
   "outputs": [],
   "source": [
    "permute(\"cd\")\n"
   ]
  },
  {
   "cell_type": "code",
   "execution_count": null,
   "id": "63be14a9",
   "metadata": {},
   "outputs": [],
   "source": [
    "cd\n",
    "dc\n"
   ]
  },
  {
   "cell_type": "markdown",
   "id": "6ec101bc",
   "metadata": {},
   "source": [
    "<aside>\n",
    "💡 **Question 8**\n",
    "\n",
    "Given a string, count total number of consonants in it. A consonant is an English alphabet character that is not vowel (a, e, i, o and u). Examples of constants are b, c, d, f, and g.\n",
    "\n",
    "**Examples :**\n",
    "    \n",
    "    ```\n",
    "Input : abc de\n",
    "Output : 3\n",
    "There are three consonants b, c and d.\n",
    "\n",
    "Input : geeksforgeeks portal\n",
    "Output : 12\n",
    "```\n",
    "\n",
    "</aside>"
   ]
  },
  {
   "cell_type": "code",
   "execution_count": 24,
   "id": "fbe49896",
   "metadata": {},
   "outputs": [],
   "source": [
    "def countConsonants(string):\n",
    "    vowels = ['a', 'e', 'i', 'o', 'u']\n",
    "\n",
    "    if string == \"\":\n",
    "        return 0\n",
    "    else:\n",
    "        count = 0\n",
    "        if string[0].isalpha() and string[0].lower() not in vowels:\n",
    "            count += 1\n",
    "        count += countConsonants(string[1:])\n",
    "        return count\n"
   ]
  },
  {
   "cell_type": "code",
   "execution_count": 25,
   "id": "22326db7",
   "metadata": {},
   "outputs": [
    {
     "name": "stdout",
     "output_type": "stream",
     "text": [
      "3\n",
      "12\n"
     ]
    }
   ],
   "source": [
    "print(countConsonants(\"abc de\"))  # Output: 3\n",
    "print(countConsonants(\"geeksforgeeks portal\"))  # Output: 12\n"
   ]
  }
 ],
 "metadata": {
  "kernelspec": {
   "display_name": "Python 3 (ipykernel)",
   "language": "python",
   "name": "python3"
  },
  "language_info": {
   "codemirror_mode": {
    "name": "ipython",
    "version": 3
   },
   "file_extension": ".py",
   "mimetype": "text/x-python",
   "name": "python",
   "nbconvert_exporter": "python",
   "pygments_lexer": "ipython3",
   "version": "3.10.4"
  }
 },
 "nbformat": 4,
 "nbformat_minor": 5
}
